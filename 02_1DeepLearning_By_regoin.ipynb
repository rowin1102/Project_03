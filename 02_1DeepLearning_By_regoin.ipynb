{
 "cells": [
  {
   "cell_type": "markdown",
   "id": "cc57b995",
   "metadata": {},
   "source": [
    "### 라이브러리 불러오기"
   ]
  },
  {
   "cell_type": "code",
   "execution_count": 2,
   "id": "ace65a44",
   "metadata": {},
   "outputs": [],
   "source": [
    "import pandas as pd\n",
    "import numpy as np\n",
    "from sklearn.preprocessing import StandardScaler\n",
    "from sklearn.metrics import classification_report\n",
    "from tensorflow.keras.models import Sequential, load_model\n",
    "from tensorflow.keras.layers import Dense, Dropout, BatchNormalization\n",
    "from tensorflow.keras.callbacks import EarlyStopping, ReduceLROnPlateau\n",
    "import joblib\n"
   ]
  },
  {
   "cell_type": "markdown",
   "id": "07952dc2",
   "metadata": {},
   "source": [
    "### 파일 불러오기"
   ]
  },
  {
   "cell_type": "code",
   "execution_count": 33,
   "id": "2c01bf3a",
   "metadata": {},
   "outputs": [
    {
     "name": "stderr",
     "output_type": "stream",
     "text": [
      "C:\\Users\\kosmo\\AppData\\Local\\Temp\\ipykernel_3148\\319022664.py:5: FutureWarning: DataFrame.fillna with 'method' is deprecated and will raise in a future version. Use obj.ffill() or obj.bfill() instead.\n",
      "  df = df.fillna(method='ffill')\n",
      "C:\\Users\\kosmo\\AppData\\Local\\Temp\\ipykernel_3148\\319022664.py:8: FutureWarning: DataFrame.fillna with 'method' is deprecated and will raise in a future version. Use obj.ffill() or obj.bfill() instead.\n",
      "  df = df.fillna(method='bfill')\n"
     ]
    }
   ],
   "source": [
    "df = pd.read_csv('./finalData/Yeosu_05.csv', na_values='-', encoding='cp949')\n",
    "df = df.replace('-', np.nan)\n",
    "\n",
    "# 위 값으로 채우기\n",
    "df = df.fillna(method='ffill')\n",
    "\n",
    "# 맨 앞도 채워야 한다면 아래 값으로 채우기\n",
    "df = df.fillna(method='bfill')\n",
    "df.to_csv('Yeosu_05.csv', index=False)"
   ]
  },
  {
   "cell_type": "markdown",
   "id": "300d764b",
   "metadata": {},
   "source": [
    "## 빈 셀은 윗 값으로 채우고 조건에 따른 ['can_sail'] 컬럼 만들기"
   ]
  },
  {
   "cell_type": "code",
   "execution_count": 11,
   "id": "cdbcc605",
   "metadata": {},
   "outputs": [
    {
     "name": "stdout",
     "output_type": "stream",
     "text": [
      "datetime      0\n",
      "sea_high      0\n",
      "salt          0\n",
      "wind_speed    0\n",
      "wind_dir      0\n",
      "temp          0\n",
      "pressure      0\n",
      "sea_speed     0\n",
      "sea_dir_s     0\n",
      "sea_dir_i     0\n",
      "sea_temp      0\n",
      "dtype: int64\n",
      "can_sail\n",
      "1    4029\n",
      "0     291\n",
      "Name: count, dtype: int64\n"
     ]
    },
    {
     "name": "stderr",
     "output_type": "stream",
     "text": [
      "C:\\Users\\kosmo\\AppData\\Local\\Temp\\ipykernel_8608\\3401155766.py:7: FutureWarning: DataFrame.fillna with 'method' is deprecated and will raise in a future version. Use obj.ffill() or obj.bfill() instead.\n",
      "  df = df.fillna(method='ffill')\n",
      "C:\\Users\\kosmo\\AppData\\Local\\Temp\\ipykernel_8608\\3401155766.py:10: FutureWarning: DataFrame.fillna with 'method' is deprecated and will raise in a future version. Use obj.ffill() or obj.bfill() instead.\n",
      "  df = df.fillna(method='bfill')\n"
     ]
    }
   ],
   "source": [
    "df = pd.read_csv('./finalData/Yeosu_06.csv', na_values='-', encoding='cp949')\n",
    "# df = pd.read_csv('./finalData/Taean_06.csv', na_values='-'), encoding='cp949'\n",
    "\n",
    "df = df.replace('-', np.nan)\n",
    "\n",
    "# 위 값으로 채우기\n",
    "df = df.fillna(method='ffill')\n",
    "\n",
    "# 맨 앞도 채워야 한다면 아래 값으로 채우기\n",
    "df = df.fillna(method='bfill')\n",
    "\n",
    "print(df.isnull().sum()) \n",
    "def label_can_sail(row):\n",
    "    # 풍속\n",
    "    if row['wind_speed'] > 8:\n",
    "        return 0  # 못 뜸\n",
    "    # 기압\n",
    "    if row['pressure'] < 990 or row['pressure'] > 1030 :\n",
    "        return 0\n",
    "\n",
    "    if row['sea_speed'] > 70:\n",
    "        return 0\n",
    "    \n",
    "    if row['sea_high'] < 80:\n",
    "        return 0\n",
    "    # 예시: 다 괜찮으면\n",
    "    return 1\n",
    "\n",
    "df['can_sail'] = df.apply(label_can_sail, axis=1)\n",
    "print(df['can_sail'].value_counts())\n",
    "\n",
    "df.to_csv('./finalData/Yeosu_06.csv', index=False)"
   ]
  },
  {
   "cell_type": "markdown",
   "id": "c39e48e6",
   "metadata": {},
   "source": [
    "## 훈련 및 테스트 데이터 불러오기"
   ]
  },
  {
   "cell_type": "code",
   "execution_count": 56,
   "id": "49a313b8",
   "metadata": {},
   "outputs": [],
   "source": [
    "df_train = pd.read_csv('./finalData/Yeosu_04.csv', na_values='-')\n",
    "df_test = pd.read_csv('./finalData/Yeosu_05.csv', na_values='-')"
   ]
  },
  {
   "cell_type": "markdown",
   "id": "64fdaf41",
   "metadata": {},
   "source": [
    "## 데이터 전처리 및 모델 생성"
   ]
  },
  {
   "cell_type": "code",
   "execution_count": null,
   "id": "360a068e",
   "metadata": {},
   "outputs": [],
   "source": [
    "\n",
    "# -------------------------------\n",
    "# 2️⃣ 피처 & 타겟 정의\n",
    "# -------------------------------\n",
    "features = ['wind_speed', 'pressure', 'sea_speed', 'sea_high']\n",
    "target_col = 'can_sail'  # 실제 운항 가능 여부 (0/1)\n",
    "\n",
    "X_train = df_train[features].dropna()\n",
    "y_train = df_train[target_col].dropna()\n",
    "\n",
    "X_test = df_test[features].dropna()\n",
    "y_test = df_test[target_col].dropna()\n",
    "\n",
    "# -------------------------------\n",
    "# 3️⃣ 스케일링\n",
    "# -------------------------------\n",
    "scaler = StandardScaler()\n",
    "X_train_scaled = scaler.fit_transform(X_train)\n",
    "X_test_scaled = scaler.transform(X_test)\n",
    "\n",
    "# -------------------------------\n",
    "# 4️⃣ MLP 모델 개선 버전\n",
    "# -------------------------------\n",
    "model = Sequential()\n",
    "model.add(Dense(128, input_shape=(X_train_scaled.shape[1],)))\n",
    "model.add(BatchNormalization())\n",
    "model.add(Dense(128, activation='relu'))\n",
    "model.add(Dropout(0.3))\n",
    "\n",
    "model.add(Dense(64, activation='relu'))\n",
    "model.add(BatchNormalization())\n",
    "model.add(Dropout(0.3))\n",
    "\n",
    "model.add(Dense(32, activation='relu'))\n",
    "model.add(BatchNormalization())\n",
    "model.add(Dropout(0.2))\n",
    "\n",
    "model.add(Dense(1, activation='sigmoid'))  # 이진 분류\n",
    "\n",
    "model.compile(optimizer='adam', loss='binary_crossentropy', metrics=['accuracy'])\n",
    "# model.summary()\n",
    "\n",
    "# -------------------------------\n",
    "# 5️⃣ 콜백 설정\n",
    "# -------------------------------\n",
    "es = EarlyStopping(monitor='val_loss', patience=10, restore_best_weights=True)\n",
    "rlr = ReduceLROnPlateau(monitor='val_loss', patience=5, factor=0.5, verbose=1)\n",
    "\n",
    "\n"
   ]
  },
  {
   "cell_type": "markdown",
   "id": "2a804430",
   "metadata": {},
   "source": [
    "## 학습 및 테스트하기\n",
    "### 모델 & 스케일러 저장"
   ]
  },
  {
   "cell_type": "code",
   "execution_count": null,
   "id": "a4cbeb6b",
   "metadata": {},
   "outputs": [],
   "source": [
    "# -------------------------------\n",
    "# 6️⃣ 학습\n",
    "# -------------------------------\n",
    "history = model.fit(\n",
    "    X_train_scaled, y_train,\n",
    "    validation_data=(X_test_scaled, y_test),\n",
    "    epochs=100,\n",
    "    batch_size=32,\n",
    "    callbacks=[es, rlr]\n",
    ")\n",
    "\n",
    "# -------------------------------\n",
    "# 7️⃣ 테스트 데이터 평가\n",
    "# -------------------------------\n",
    "y_test_pred = (model.predict(X_test_scaled) > 0.5).astype(int)\n",
    "print(\"\\n=== Test Classification Report ===\")\n",
    "print(classification_report(y_test, y_test_pred))\n",
    "\n",
    "# -------------------------------\n",
    "# 8️⃣ 모델 & 스케일러 저장\n",
    "# -------------------------------\n",
    "model.save('Yeosu_can_sail_model.h5')\n",
    "joblib.dump(scaler, 'Yeosu_scaler.pkl')\n",
    "\n",
    "print(\"\\n✅ MLP 모델 저장 완료\")\n",
    "print(\"✅ 스케일러 저장 완료\")\n"
   ]
  },
  {
   "cell_type": "markdown",
   "id": "3a2d5dbd",
   "metadata": {},
   "source": [
    "## 6월 데이터 예측하기\n",
    "### can_sail 예측 모델 사용"
   ]
  },
  {
   "cell_type": "code",
   "execution_count": null,
   "id": "7d5cf6ca",
   "metadata": {},
   "outputs": [],
   "source": [
    "# -------------------------------\n",
    "# 🔮 9️⃣ 나중에 InCheon_06.csv 들어올 때 예측 흐름 예시\n",
    "# -------------------------------\n",
    "\n",
    "# ✅ 나중에 새 데이터 들어오면 이렇게 쓰면 돼요!\n",
    "\n",
    "import pandas as pd\n",
    "import joblib\n",
    "from tensorflow.keras.models import load_model\n",
    "\n",
    "# 빈 DataFrame 생성\n",
    "col = ['wind_speed', 'pressure', 'sea_speed', 'sea_high']\n",
    "df_empty = pd.DataFrame(columns=col)\n",
    "\n",
    "# CSV로 저장\n",
    "df_empty.to_csv('./pred_file/InCheon_06.csv', index=False)\n",
    "\n",
    "print(\"✅ 빈 CSV 파일 생성 완료: empty_file.csv\")\n",
    "\n",
    "# 새 데이터 불러오기\n",
    "df_new = pd.read_csv('./pred_file/InCheon_06.csv')\n",
    "\n",
    "# 피처 정의\n",
    "features = ['tide', 'salinity', 'water_temp', 'wind_speed', 'wind_dir', 'air_temp', 'pressure']\n",
    "\n",
    "# 스케일러 불러오기 & transform\n",
    "scaler = joblib.load('./model/InCheon_scaler.pkl')\n",
    "X_new_scaled = scaler.transform(df_new[features])\n",
    "\n",
    "# 모델 불러오기 & 예측\n",
    "model = load_model('./model/InCheon_can_sail_model.h5')\n",
    "y_new_pred = (model.predict(X_new_scaled) > 0.5).astype(int)\n",
    "\n",
    "df_new['can_sail_pred'] = y_new_pred\n",
    "df_new.to_csv('InCheon_06_with_MLP_pred.csv', index=False)\n",
    "print('✅ 06 데이터 예측 결과 저장 완료!')\n",
    "\n"
   ]
  },
  {
   "cell_type": "code",
   "execution_count": null,
   "id": "c16c99b9",
   "metadata": {},
   "outputs": [],
   "source": [
    "import pandas as pd\n",
    "import joblib\n",
    "from tensorflow.keras.models import load_model\n",
    "\n",
    "# ----------------------------------------\n",
    "# ✅ 1) 저장된 스케일러와 모델 불러오기\n",
    "# ----------------------------------------\n",
    "scaler = joblib.load('./model/InCheon_scaler.pkl')\n",
    "model = load_model('./model/InCheon_can_sail_model.h5')\n",
    "\n",
    "# ----------------------------------------\n",
    "# ✅ 2) 04.csv or 05.csv 불러오기 (가상 6월 데이터)\n",
    "# ----------------------------------------\n",
    "# 예: 05.csv를 6월이라고 가정\n",
    "df_fake_06 = pd.read_csv('./pred_file/InCheon_06.csv')\n",
    "\n",
    "# ----------------------------------------\n",
    "# ✅ 3) 학습 때 사용한 피처만 선택\n",
    "# ----------------------------------------\n",
    "features = ['wind_speed', 'pressure', 'sea_speed', 'sea_high']\n",
    "\n",
    "X_fake_06_scaled = scaler.transform(df_fake_06[features])\n",
    "\n",
    "# ----------------------------------------\n",
    "# ✅ 4) 예측\n",
    "# ----------------------------------------\n",
    "y_fake_06_pred = (model.predict(X_fake_06_scaled) > 0.5).astype(int)\n",
    "\n",
    "# ----------------------------------------\n",
    "# ✅ 5) 결과 붙이고 새 파일로 저장\n",
    "# ----------------------------------------\n",
    "df_fake_06['can_sail_pred'] = y_fake_06_pred\n",
    "df_fake_06.to_csv('./pred_file/InCheon_06.csv', index=False)\n",
    "\n",
    "print('✅ (가상) 06 데이터 예측 결과 저장 완료: InCheon_06_with_MLP_pred.csv')\n"
   ]
  }
 ],
 "metadata": {
  "kernelspec": {
   "display_name": "myvenv3.9",
   "language": "python",
   "name": "python3"
  },
  "language_info": {
   "codemirror_mode": {
    "name": "ipython",
    "version": 3
   },
   "file_extension": ".py",
   "mimetype": "text/x-python",
   "name": "python",
   "nbconvert_exporter": "python",
   "pygments_lexer": "ipython3",
   "version": "3.9.18"
  }
 },
 "nbformat": 4,
 "nbformat_minor": 5
}
