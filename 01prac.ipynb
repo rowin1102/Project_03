{
 "cells": [
  {
   "cell_type": "code",
   "execution_count": 1,
   "id": "31bba0e8",
   "metadata": {},
   "outputs": [],
   "source": [
    "import pandas as pd"
   ]
  },
  {
   "cell_type": "markdown",
   "id": "6bef9f6c",
   "metadata": {},
   "source": [
    "## 1 . 1분단위 데이터를 10분단위 데이터로 바꾸기"
   ]
  },
  {
   "cell_type": "code",
   "execution_count": 16,
   "id": "0b54d105",
   "metadata": {},
   "outputs": [
    {
     "name": "stderr",
     "output_type": "stream",
     "text": [
      "C:\\Users\\kosmo\\AppData\\Local\\Temp\\ipykernel_12440\\3691958673.py:21: FutureWarning: 'T' is deprecated and will be removed in a future version, please use 'min' instead.\n",
      "  resampled_df = numeric_df.resample('10T').mean()\n"
     ]
    }
   ],
   "source": [
    "import pandas as pd\n",
    "# 분 단위 바꿔야 하는 파일만 돌리기\n",
    "# 원본 파일이 몇 분 단위던 10분단위로 만들어줌\n",
    "# 1-1. 파일 이름 바꾸기\n",
    "file_path = \"./inputData/InCheon_jo_06.csv\"\n",
    "\n",
    "df = pd.read_csv(file_path, skiprows=3, encoding='cp949') \n",
    "\n",
    "\n",
    "df['관측시간'] = pd.to_datetime(df['관측시간'], errors='coerce') \n",
    "\n",
    "\n",
    "df = df.dropna(subset=['관측시간'])\n",
    "\n",
    "df.set_index('관측시간', inplace=True)\n",
    "\n",
    "\n",
    "numeric_df = df.apply(pd.to_numeric, errors='coerce')\n",
    "\n",
    "\n",
    "resampled_df = numeric_df.resample('10T').mean()\n",
    "\n",
    "# 1-2. 저장될 파일이름\n",
    "output_path = \"./jo_10m.csv\"\n",
    "resampled_df.to_csv(output_path, encoding='utf-8-sig')\n"
   ]
  },
  {
   "cell_type": "markdown",
   "id": "3731aa02",
   "metadata": {},
   "source": [
    "## 2. 두 개의 엑셀 파일 병합하기"
   ]
  },
  {
   "cell_type": "code",
   "execution_count": 17,
   "id": "09aa4187",
   "metadata": {},
   "outputs": [],
   "source": [
    "import pandas as pd\n",
    "\n",
    "# 2-1. 조 파일 불러오기\n",
    "jo_path = \"./jo_10m.csv\"\n",
    "df1 = pd.read_csv(jo_path)\n",
    "# 2-2. 부이 파일 불러오기\n",
    "bui_path = \"./inputData/InCheon_bui_06.csv\"\n",
    "# 2-3. 인코딩 오류뜨면 위에꺼 주석풀어서 실행해보기\n",
    "df2 = pd.read_csv(bui_path,skiprows=3, encoding='cp949')\n",
    "# df2 = pd.read_csv(bui_path)\n",
    "\n",
    "df2_columns_only = df2.drop(columns=['관측시간'])\n",
    "\n",
    "merged = pd.concat([df1, df2_columns_only], axis=1)\n",
    "\n",
    "# 2-4. 저장시킬 파일 이름\n",
    "merged.to_csv(\"./jo+bui.csv\", index=False, encoding='utf-8-sig')\n"
   ]
  },
  {
   "cell_type": "markdown",
   "id": "97cc1a53",
   "metadata": {},
   "source": [
    "## 3. 합친 파일 정리하기"
   ]
  },
  {
   "cell_type": "code",
   "execution_count": 18,
   "id": "70bf2bd2",
   "metadata": {},
   "outputs": [
    {
     "name": "stdout",
     "output_type": "stream",
     "text": [
      "['유의파고(m)', '유의파주기(sec)', '최대파고(m)', '최대파주기(sec)', '풍향(16points)', '시정(m)']\n"
     ]
    }
   ],
   "source": [
    "\n",
    "# 3-1. 합친파일 불러오기\n",
    "df = pd.read_csv(\"./jo+bui.csv\")\n",
    "total_rows = len(df)\n",
    "\n",
    "threshold = 0.5 \n",
    "cols_to_drop = [col for col in df.columns if df[col].isnull().sum() / total_rows >= threshold]\n",
    "print(cols_to_drop)\n",
    "\n",
    "df_cleaned = df.drop(columns=cols_to_drop)\n",
    "\n",
    "# 저장될 이름. 지역_06.csv\n",
    "df_cleaned.to_csv(\"InCheon_06.csv\", index=False)\n"
   ]
  },
  {
   "cell_type": "markdown",
   "id": "3df35590",
   "metadata": {},
   "source": [
    "---------------------------------------------------------------------------------------------\n"
   ]
  },
  {
   "cell_type": "markdown",
   "id": "93c591f1",
   "metadata": {},
   "source": [
    "이건 필요없음"
   ]
  },
  {
   "cell_type": "code",
   "execution_count": null,
   "id": "20bbb2c1",
   "metadata": {},
   "outputs": [],
   "source": [
    "\n",
    "# 파일 읽기\n",
    "df = pd.read_csv('통영_조위+부이_관측시간그대로.xlsx')\n",
    "\n",
    "# 엑셀 시리얼 넘버를 날짜/시간으로 변환\n",
    "df['관측시간'] = pd.to_datetime(df['관측시간'], unit='d', origin='1899-12-30')\n",
    "\n",
    "# 원하는 포맷(YYYY-MM-DD HH:MM:SS)으로 문자열 변환\n",
    "df['관측시간'] = df['관측시간'].dt.strftime('%Y-%m-%d %H:%M:%S')\n",
    "\n",
    "col_to_drop = list(df.columns[12:])  # 인덱스 1에 해당하는 컬럼 이름\n",
    "\n",
    "# 해당 컬럼 삭제\n",
    "df = df.drop(columns=col_to_drop)\n",
    "\n",
    "# 파일로 저장 (예시)\n",
    "df.to_csv('통영_조위+부이_포맷변환.xlsx', index=False)\n",
    "\n"
   ]
  }
 ],
 "metadata": {
  "kernelspec": {
   "display_name": "myvenv3.9",
   "language": "python",
   "name": "python3"
  },
  "language_info": {
   "codemirror_mode": {
    "name": "ipython",
    "version": 3
   },
   "file_extension": ".py",
   "mimetype": "text/x-python",
   "name": "python",
   "nbconvert_exporter": "python",
   "pygments_lexer": "ipython3",
   "version": "3.9.18"
  }
 },
 "nbformat": 4,
 "nbformat_minor": 5
}
