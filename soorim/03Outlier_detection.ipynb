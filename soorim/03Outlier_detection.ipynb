{
 "cells": [
  {
   "cell_type": "code",
   "execution_count": null,
   "id": "2de318ea",
   "metadata": {},
   "outputs": [],
   "source": [
    "import pandas as pd\n",
    "\n",
    "# 데이터 불러오기\n",
    "df = pd.read_csv('InCheon_04.csv')\n",
    "\n",
    "# 수치형 컬럼 선택\n",
    "num_cols = df.select_dtypes(include=['float64', 'int64']).columns\n",
    "\n",
    "# 이상치 탐지 함수 (IQR)\n",
    "def detect_outliers_iqr(data, column):\n",
    "    Q1 = data[column].quantile(0.25)\n",
    "    Q3 = data[column].quantile(0.75)\n",
    "    IQR = Q3 - Q1\n",
    "    lower = Q1 - 1.5 * IQR\n",
    "    upper = Q3 + 1.5 * IQR\n",
    "    outliers = data[(data[column] < lower) | (data[column] > upper)]\n",
    "    return outliers\n",
    "\n",
    "# 컬럼별 이상치 탐지 결과 저장\n",
    "outliers_dict = {}\n",
    "\n",
    "for col in num_cols:\n",
    "    outliers = detect_outliers_iqr(df, col)\n",
    "    outliers_dict[col] = outliers\n",
    "\n",
    "# 이상치 개수 출력\n",
    "for col, outliers in outliers_dict.items():\n",
    "    print(f\"{col} 이상치 개수: {len(outliers)}\")\n"
   ]
  }
 ],
 "metadata": {
  "kernelspec": {
   "display_name": "myvenv3.91",
   "language": "python",
   "name": "python3"
  },
  "language_info": {
   "name": "python",
   "version": "3.9.23"
  }
 },
 "nbformat": 4,
 "nbformat_minor": 5
}
